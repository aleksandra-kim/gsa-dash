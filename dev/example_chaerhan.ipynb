{
 "cells": [
  {
   "cell_type": "code",
   "execution_count": null,
   "id": "328befd3",
   "metadata": {},
   "outputs": [],
   "source": [
    "import bw2data as bd\n",
    "import bw2io as bi"
   ]
  },
  {
   "cell_type": "code",
   "execution_count": null,
   "id": "2014d827",
   "metadata": {},
   "outputs": [],
   "source": [
    "project = f\"Uncertainties Chaerhan\"\n",
    "bd.projects.set_current(project)\n",
    "\n",
    "# Import biosphere\n",
    "bi.bw2setup()\n",
    "\n",
    "# Import ecoinvent 3.8\n",
    "ei_path = \"TODO give path to /ecoinvent_38_cutoff/datasets\"\n",
    "ei_name = \"ecoinvent 3.8 cutoff\"\n",
    "if ei_name in bd.databases:\n",
    "    print(\"ecoinvent database already exists\")\n",
    "else:\n",
    "    ei = bi.SingleOutputEcospold2Importer(ei_path, ei_name)\n",
    "    ei.apply_strategies()\n",
    "    assert ei.all_linked\n",
    "    ei.write_database()\n",
    "\n",
    "# Import foreground water database\n",
    "if \"Water_38\" in bd.databases:\n",
    "    print(\"Water_38 database already exists\")\n",
    "else:\n",
    "    # 1. Specify filepath to your foreground inventories.\n",
    "    water_path = \"data/Water_database_38.xlsx\"\n",
    "    # 2. Create an instance of a class that contains basic methods for importing a database from an excel file.\n",
    "    water = bi.ExcelImporter(water_path)\n",
    "    # 3. `apply_strategies` is one of such basic methods, it makes sure units, locations, etc are in correct format.\n",
    "    water.apply_strategies()\n",
    "    # 4. Next step is to link your foreground exchanges to existing databases by matching relevant exchanges fields.\n",
    "    water.match_database(\"biosphere3\", fields=(\"name\", \"unit\", \"categories\"))\n",
    "    water.match_database(\"ecoinvent 3.8 cutoff\", fields=(\"name\", \"location\", \"unit\"))\n",
    "    water.metadata.pop(None)  # Remove metadata None entry. TODO\n",
    "    # 5. If everything is linked, write database so that it is saved in your project.\n",
    "    if water.all_linked:\n",
    "        water.write_database()\n",
    "\n",
    "# Import foreground lithium database\n",
    "if \"Chaerhan_38\" in bd.databases:\n",
    "    print(\"Chaerhan_38 database already exists\")\n",
    "else:\n",
    "    lithium_path = \"data/Chaerhan_database_38.xlsx\"\n",
    "    lithium = bi.ExcelImporter(lithium_path)\n",
    "    lithium.apply_strategies()\n",
    "    lithium.match_database(\"biosphere3\", fields=(\"name\", \"unit\", \"categories\"))\n",
    "    lithium.match_database(\"ecoinvent 3.8 cutoff\", fields=(\"name\", \"location\", \"unit\"))\n",
    "    # We also need to link Lithium database to the Water database\n",
    "    lithium.match_database(\"Water_38\", fields=(\"name\", \"location\", \"unit\"))\n",
    "    lithium.metadata.pop(None)\n",
    "    if lithium.all_linked:\n",
    "        lithium.write_database()\n",
    "\n",
    "print(bd.databases)"
   ]
  },
  {
   "cell_type": "code",
   "execution_count": 1,
   "id": "cb728d0c",
   "metadata": {},
   "outputs": [
    {
     "ename": "ModuleNotFoundError",
     "evalue": "No module named 'gsa_dash'",
     "output_type": "error",
     "traceback": [
      "\u001b[0;31m---------------------------------------------------------------------------\u001b[0m",
      "\u001b[0;31mModuleNotFoundError\u001b[0m                       Traceback (most recent call last)",
      "Input \u001b[0;32mIn [1]\u001b[0m, in \u001b[0;36m<cell line: 2>\u001b[0;34m()\u001b[0m\n\u001b[1;32m      1\u001b[0m \u001b[38;5;66;03m# Run Dash app\u001b[39;00m\n\u001b[0;32m----> 2\u001b[0m \u001b[38;5;28;01mfrom\u001b[39;00m \u001b[38;5;21;01mgsa_dash\u001b[39;00m \u001b[38;5;28;01mimport\u001b[39;00m app\n",
      "\u001b[0;31mModuleNotFoundError\u001b[0m: No module named 'gsa_dash'"
     ]
    }
   ],
   "source": [
    "# Run Dash app\n",
    "from gsa_dash import app"
   ]
  },
  {
   "cell_type": "code",
   "execution_count": null,
   "id": "93cedd11",
   "metadata": {},
   "outputs": [],
   "source": []
  }
 ],
 "metadata": {
  "kernelspec": {
   "display_name": "Python 3 (ipykernel)",
   "language": "python",
   "name": "python3"
  },
  "language_info": {
   "codemirror_mode": {
    "name": "ipython",
    "version": 3
   },
   "file_extension": ".py",
   "mimetype": "text/x-python",
   "name": "python",
   "nbconvert_exporter": "python",
   "pygments_lexer": "ipython3",
   "version": "3.10.6"
  }
 },
 "nbformat": 4,
 "nbformat_minor": 5
}
